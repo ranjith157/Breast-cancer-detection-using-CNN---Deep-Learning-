{
  "metadata": {
    "kernelspec": {
      "language": "python",
      "display_name": "Python 3",
      "name": "python3"
    },
    "language_info": {
      "name": "python",
      "version": "3.10.13",
      "mimetype": "text/x-python",
      "codemirror_mode": {
        "name": "ipython",
        "version": 3
      },
      "pygments_lexer": "ipython3",
      "nbconvert_exporter": "python",
      "file_extension": ".py"
    },
    "kaggle": {
      "accelerator": "none",
      "dataSources": [
        {
          "sourceId": 9091242,
          "sourceType": "datasetVersion",
          "datasetId": 5486061
        }
      ],
      "dockerImageVersionId": 30746,
      "isInternetEnabled": true,
      "language": "python",
      "sourceType": "notebook",
      "isGpuEnabled": false
    },
    "colab": {
      "provenance": [],
      "include_colab_link": true
    }
  },
  "nbformat_minor": 0,
  "nbformat": 4,
  "cells": [
    {
      "cell_type": "markdown",
      "metadata": {
        "id": "view-in-github",
        "colab_type": "text"
      },
      "source": [
        "<a href=\"https://colab.research.google.com/github/drahulnayak/Breast-cancer-detection-using-CNN---Deep-Learning-/blob/main/Note.ipynb\" target=\"_parent\"><img src=\"https://colab.research.google.com/assets/colab-badge.svg\" alt=\"Open In Colab\"/></a>"
      ]
    },
    {
      "cell_type": "code",
      "source": [
        "!pip install deap gdown"
      ],
      "metadata": {
        "colab": {
          "base_uri": "https://localhost:8080/"
        },
        "id": "8DA024iUWfea",
        "outputId": "c6ad8e65-fbb6-406c-d569-46f747d82158"
      },
      "execution_count": null,
      "outputs": [
        {
          "output_type": "stream",
          "name": "stdout",
          "text": [
            "Collecting deap\n",
            "  Downloading deap-1.4.1-cp310-cp310-manylinux_2_5_x86_64.manylinux1_x86_64.manylinux_2_17_x86_64.manylinux2014_x86_64.whl.metadata (13 kB)\n",
            "Requirement already satisfied: gdown in /usr/local/lib/python3.10/dist-packages (5.1.0)\n",
            "Requirement already satisfied: numpy in /usr/local/lib/python3.10/dist-packages (from deap) (1.26.4)\n",
            "Requirement already satisfied: beautifulsoup4 in /usr/local/lib/python3.10/dist-packages (from gdown) (4.12.3)\n",
            "Requirement already satisfied: filelock in /usr/local/lib/python3.10/dist-packages (from gdown) (3.15.4)\n",
            "Requirement already satisfied: requests[socks] in /usr/local/lib/python3.10/dist-packages (from gdown) (2.31.0)\n",
            "Requirement already satisfied: tqdm in /usr/local/lib/python3.10/dist-packages (from gdown) (4.66.4)\n",
            "Requirement already satisfied: soupsieve>1.2 in /usr/local/lib/python3.10/dist-packages (from beautifulsoup4->gdown) (2.5)\n",
            "Requirement already satisfied: charset-normalizer<4,>=2 in /usr/local/lib/python3.10/dist-packages (from requests[socks]->gdown) (3.3.2)\n",
            "Requirement already satisfied: idna<4,>=2.5 in /usr/local/lib/python3.10/dist-packages (from requests[socks]->gdown) (3.7)\n",
            "Requirement already satisfied: urllib3<3,>=1.21.1 in /usr/local/lib/python3.10/dist-packages (from requests[socks]->gdown) (2.0.7)\n",
            "Requirement already satisfied: certifi>=2017.4.17 in /usr/local/lib/python3.10/dist-packages (from requests[socks]->gdown) (2024.7.4)\n",
            "Requirement already satisfied: PySocks!=1.5.7,>=1.5.6 in /usr/local/lib/python3.10/dist-packages (from requests[socks]->gdown) (1.7.1)\n",
            "Downloading deap-1.4.1-cp310-cp310-manylinux_2_5_x86_64.manylinux1_x86_64.manylinux_2_17_x86_64.manylinux2014_x86_64.whl (135 kB)\n",
            "\u001b[2K   \u001b[90m━━━━━━━━━━━━━━━━━━━━━━━━━━━━━━━━━━━━━━━━\u001b[0m \u001b[32m135.4/135.4 kB\u001b[0m \u001b[31m1.2 MB/s\u001b[0m eta \u001b[36m0:00:00\u001b[0m\n",
            "\u001b[?25hInstalling collected packages: deap\n",
            "Successfully installed deap-1.4.1\n"
          ]
        }
      ]
    },
    {
      "cell_type": "code",
      "source": [
        "!gdown 1ppMGBDeBD0hJbd3XhtrMuUGT-9WSfGjd"
      ],
      "metadata": {
        "colab": {
          "base_uri": "https://localhost:8080/"
        },
        "id": "aBtZ4y00WRy3",
        "outputId": "1af47956-296c-4699-8221-7a36d3d4f792"
      },
      "execution_count": null,
      "outputs": [
        {
          "output_type": "stream",
          "name": "stdout",
          "text": [
            "Downloading...\n",
            "From (original): https://drive.google.com/uc?id=1ppMGBDeBD0hJbd3XhtrMuUGT-9WSfGjd\n",
            "From (redirected): https://drive.google.com/uc?id=1ppMGBDeBD0hJbd3XhtrMuUGT-9WSfGjd&confirm=t&uuid=121e6f7b-893e-4558-a177-d1ab97c480bc\n",
            "To: /content/MAT_Files.zip\n",
            "100% 146M/146M [00:07<00:00, 18.5MB/s]\n"
          ]
        }
      ]
    },
    {
      "cell_type": "code",
      "source": [
        "!unzip /content/MAT_Files.zip"
      ],
      "metadata": {
        "colab": {
          "base_uri": "https://localhost:8080/"
        },
        "id": "oIbUIKc3W3qp",
        "outputId": "e975bcda-675a-4e38-bd14-518ad3ee6eea"
      },
      "execution_count": null,
      "outputs": [
        {
          "output_type": "stream",
          "name": "stdout",
          "text": [
            "Archive:  /content/MAT_Files.zip\n",
            "  inflating: MAT files/S1000001_BandRejection.mat  \n",
            "  inflating: MAT files/Subject10-Guilty-Trial-10_BandRejection.mat  \n",
            "  inflating: MAT files/Subject10-Guilty-Trial-16_BandRejection.mat  \n",
            "  inflating: MAT files/Subject10-Guilty-Trial-20_BandRejection.mat  \n",
            "  inflating: MAT files/Subject10-Innocent-Trial-1_BandRejection.mat  \n",
            "  inflating: MAT files/Subject10-Innocent-Trial-17_BandRejection.mat  \n",
            "  inflating: MAT files/Subject10-Innocent-Trial-19_BandRejection.mat  \n",
            "  inflating: MAT files/Subject10-Innocent-Trial-2_BandRejection.mat  \n",
            "  inflating: MAT files/Subject10-Innocent-Trial-22_BandRejection.mat  \n",
            "  inflating: MAT files/Subject10-Innocent-Trial-24_BandRejection.mat  \n",
            "  inflating: MAT files/Subject10-Innocent-Trial-26_BandRejection.mat  \n",
            "  inflating: MAT files/Subject10-Innocent-Trial-27_BandRejection.mat  \n",
            "  inflating: MAT files/Subject10-Innocent-Trial-28_BandRejection.mat  \n",
            "  inflating: MAT files/Subject10-Innocent-Trial-29_BandRejection.mat  \n",
            "  inflating: MAT files/Subject1-Guilty-Trial-1_BandRejection.mat  \n",
            "  inflating: MAT files/Subject1-Guilty-Trial-18_BandRejection.mat  \n",
            "  inflating: MAT files/Subject1-Guilty-Trial-19_BandRejection.mat  \n",
            "  inflating: MAT files/Subject1-Guilty-Trial-2_BandRejection.mat  \n",
            "  inflating: MAT files/Subject1-Guilty-Trial-20_BandRejection.mat  \n",
            "  inflating: MAT files/Subject1-Guilty-Trial-23_BandRejection.mat  \n",
            "  inflating: MAT files/Subject1-Guilty-Trial-25_BandRejection.mat  \n",
            "  inflating: MAT files/Subject1-Guilty-Trial-27_BandRejection.mat  \n",
            "  inflating: MAT files/Subject1-Guilty-Trial-29_BandRejection.mat  \n",
            "  inflating: MAT files/Subject1-Guilty-Trial-3_BandRejection.mat  \n",
            "  inflating: MAT files/Subject1-Guilty-Trial-4_BandRejection.mat  \n",
            "  inflating: MAT files/Subject1-Guilty-Trial-5_BandRejection.mat  \n",
            "  inflating: MAT files/Subject1-Guilty-Trial-6_BandRejection.mat  \n",
            "  inflating: MAT files/Subject1-Guilty-Trial-8_BandRejection.mat  \n",
            "  inflating: MAT files/Subject1-Guilty-Trial-9_BandRejection.mat  \n",
            "  inflating: MAT files/Subject-1InnocTrial-11_BandRejection.mat  \n",
            "  inflating: MAT files/Subject-1InnocTrial-14_BandRejection.mat  \n",
            "  inflating: MAT files/Subject-1InnocTrial-15_BandRejection.mat  \n",
            "  inflating: MAT files/Subject-1InnocTrial-17_BandRejection.mat  \n",
            "  inflating: MAT files/Subject-1InnocTrial-22_BandRejection.mat  \n",
            "  inflating: MAT files/Subject-1InnocTrial-23_BandRejection.mat  \n",
            "  inflating: MAT files/Subject-1InnocTrial-25_BandRejection.mat  \n",
            "  inflating: MAT files/Subject-2-guiltyTrial-10_BandRejection.mat  \n",
            "  inflating: MAT files/Subject-2-guiltyTrial-12_BandRejection.mat  \n",
            "  inflating: MAT files/Subject-2-guiltyTrial-15_BandRejection.mat  \n",
            "  inflating: MAT files/Subject-2-guiltyTrial-17_BandRejection.mat  \n",
            "  inflating: MAT files/Subject-2-guiltyTrial-26_BandRejection.mat  \n",
            "  inflating: MAT files/Subject-2-guiltyTrial-27_BandRejection.mat  \n",
            "  inflating: MAT files/Subject-2-guiltyTrial-3_BandRejection.mat  \n",
            "  inflating: MAT files/Subject-2-guiltyTrial-5_BandRejection.mat  \n",
            "  inflating: MAT files/Subject-2-guiltyTrial-8_BandRejection.mat  \n",
            "  inflating: MAT files/Subject2-InnocentTrial_12.mat  \n",
            "  inflating: MAT files/Subject2-InnocentTrial_15.mat  \n",
            "  inflating: MAT files/Subject2-InnocentTrial_16.mat  \n",
            "  inflating: MAT files/Subject2-InnocentTrial_2.mat  \n",
            "  inflating: MAT files/Subject2-InnocentTrial_20.mat  \n",
            "  inflating: MAT files/Subject2-InnocentTrial_22.mat  \n",
            "  inflating: MAT files/Subject3-GuiltyTrial (20).mat  \n",
            "  inflating: MAT files/Subject3-GuiltyTrial (22).mat  \n",
            "  inflating: MAT files/Subject3-GuiltyTrial (26).mat  \n",
            "  inflating: MAT files/Subject3-GuiltyTrial (3).mat  \n",
            "  inflating: MAT files/Subject3-GuiltyTrial (5).mat  \n",
            "  inflating: MAT files/Subject3-Innocent(20).mat  \n",
            "  inflating: MAT files/Subject3-Innocent(25).mat  \n",
            "  inflating: MAT files/Subject3-Innocent(29).mat  \n",
            "  inflating: MAT files/Subject3-Innocent(5).mat  \n",
            "  inflating: MAT files/Subject4-Guilty  (24)(1).mat  \n",
            "  inflating: MAT files/Subject4-Guilty  (24).mat  \n",
            "  inflating: MAT files/Subject4-Guilty  (9).mat  \n",
            "  inflating: MAT files/Subject4-Innocent  (15).mat  \n",
            "  inflating: MAT files/Subject4-Innocent  (23).mat  \n",
            "  inflating: MAT files/Subject4-Innocent  (24).mat  \n",
            "  inflating: MAT files/Subject4-Innocent  (27).mat  \n",
            "  inflating: MAT files/Subject4-Innocent  (30).mat  \n",
            "  inflating: MAT files/Subject4-Innocent  (7).mat  \n",
            "  inflating: MAT files/Subject4-Innocent  (9).mat  \n",
            "  inflating: MAT files/Subject5-Guilty  (13).mat  \n",
            "  inflating: MAT files/Subject5-Guilty  (23).mat  \n",
            "  inflating: MAT files/Subject5-Guilty  (27).mat  \n",
            "  inflating: MAT files/Subject5-Guilty  (28).mat  \n",
            "  inflating: MAT files/Subject5-Guilty  (3).mat  \n",
            "  inflating: MAT files/Subject5-Guilty  (4).mat  \n",
            "  inflating: MAT files/Subject5-Guilty  (5).mat  \n",
            "  inflating: MAT files/Subject5-Guilty  (6).mat  \n",
            "  inflating: MAT files/Subject5-Guilty  (7).mat  \n",
            "  inflating: MAT files/Subject5-Guilty  (8).mat  \n",
            "  inflating: MAT files/Subject5-Guilty  (9).mat  \n",
            "  inflating: MAT files/Subject-5-Innocent (12).mat  \n",
            "  inflating: MAT files/Subject-5-Innocent (15).mat  \n",
            "  inflating: MAT files/Subject6-Guilty-Trial-19_BandRejection.mat  \n",
            "  inflating: MAT files/Subject6-Innocent-Trial-1_BandRejection.mat  \n",
            "  inflating: MAT files/Subject6-Innocent-Trial-16_BandRejection.mat  \n",
            "  inflating: MAT files/Subject6-Innocent-Trial-18_BandRejection.mat  \n",
            "  inflating: MAT files/Subject6-Innocent-Trial-19_BandRejection.mat  \n",
            "  inflating: MAT files/Subject6-Innocent-Trial-20_BandRejection.mat  \n",
            "  inflating: MAT files/Subject6-Innocent-Trial-21_BandRejection.mat  \n",
            "  inflating: MAT files/Subject6-Innocent-Trial-22_BandRejection.mat  \n",
            "  inflating: MAT files/Subject6-Innocent-Trial-23_BandRejection.mat  \n",
            "  inflating: MAT files/Subject6-Innocent-Trial-24_BandRejection.mat  \n",
            "  inflating: MAT files/Subject6-Innocent-Trial-25_BandRejection.mat  \n",
            "  inflating: MAT files/Subject6-Innocent-Trial-30_BandRejection.mat  \n",
            "  inflating: MAT files/Subject6-Innocent-Trial-4_BandRejection.mat  \n",
            "  inflating: MAT files/Subject6-Innocent-Trial-5_BandRejection.mat  \n",
            "  inflating: MAT files/Subject6-Innocent-Trial-6_BandRejection.mat  \n",
            "  inflating: MAT files/Subject6-Innocent-Trial-7_BandRejection.mat  \n",
            "  inflating: MAT files/Subject6-Innocent-Trial-8_BandRejection.mat  \n",
            "  inflating: MAT files/Subject6-Innocent-Trial-9_BandRejection.mat  \n",
            "  inflating: MAT files/Subject7-Guilty-Trial-1_BandRejection.mat  \n",
            "  inflating: MAT files/Subject7-Guilty-Trial-10_BandRejection.mat  \n",
            "  inflating: MAT files/Subject7-Guilty-Trial-14_BandRejection.mat  \n",
            "  inflating: MAT files/Subject7-Guilty-Trial-15_BandRejection.mat  \n",
            "  inflating: MAT files/Subject7-Guilty-Trial-16_BandRejection.mat  \n",
            "  inflating: MAT files/Subject7-Guilty-Trial-17_BandRejection.mat  \n",
            "  inflating: MAT files/Subject7-Guilty-Trial-18_BandRejection.mat  \n",
            "  inflating: MAT files/Subject7-Guilty-Trial-25_BandRejection.mat  \n",
            "  inflating: MAT files/Subject7-Guilty-Trial-27_BandRejection.mat  \n",
            "  inflating: MAT files/Subject7-Guilty-Trial-28_BandRejection.mat  \n",
            "  inflating: MAT files/Subject7-Guilty-Trial-29_BandRejection.mat  \n",
            "  inflating: MAT files/Subject7-Guilty-Trial-7_BandRejection.mat  \n",
            "  inflating: MAT files/Subject7-Guilty-Trial-8_BandRejection.mat  \n",
            "  inflating: MAT files/Subject7-Guilty-Trial-9_BandRejection.mat  \n",
            "  inflating: MAT files/Subject7-innocent-Trial-10_BandRejection.mat  \n",
            "  inflating: MAT files/Subject7-innocent-Trial-14_BandRejection.mat  \n",
            "  inflating: MAT files/Subject7-innocent-Trial-2_BandRejection.mat  \n",
            "  inflating: MAT files/Subject7-innocent-Trial-21_BandRejection.mat  \n",
            "  inflating: MAT files/Subject7-innocent-Trial-22_BandRejection.mat  \n",
            "  inflating: MAT files/Subject7-innocent-Trial-23_BandRejection.mat  \n",
            "  inflating: MAT files/Subject7-innocent-Trial-24_BandRejection.mat  \n",
            "  inflating: MAT files/Subject7-innocent-Trial-25_BandRejection.mat  \n",
            "  inflating: MAT files/Subject7-innocent-Trial-26_BandRejection.mat  \n",
            "  inflating: MAT files/Subject7-innocent-Trial-27_BandRejection.mat  \n",
            "  inflating: MAT files/Subject7-innocent-Trial-28_BandRejection.mat  \n",
            "  inflating: MAT files/Subject7-innocent-Trial-29_BandRejection.mat  \n",
            "  inflating: MAT files/Subject7-innocent-Trial-3_BandRejection.mat  \n",
            "  inflating: MAT files/Subject7-innocent-Trial-30_BandRejection.mat  \n",
            "  inflating: MAT files/Subject7-innocent-Trial-4_BandRejection.mat  \n",
            "  inflating: MAT files/Subject7-innocent-Trial-5_BandRejection.mat  \n",
            "  inflating: MAT files/Subject7-innocent-Trial-6_BandRejection.mat  \n",
            "  inflating: MAT files/Subject7-innocent-Trial-7_BandRejection.mat  \n",
            "  inflating: MAT files/Subject7-innocent-Trial-8_BandRejection.mat  \n",
            "  inflating: MAT files/Subject7-innocent-Trial-9_BandRejection.mat  \n",
            "  inflating: MAT files/Subject8-Guilty-Trial-1_BandRejection.mat  \n",
            "  inflating: MAT files/Subject8-Guilty-Trial-15_BandRejection.mat  \n",
            "  inflating: MAT files/Subject8-Guilty-Trial-16_BandRejection.mat  \n",
            "  inflating: MAT files/Subject8-Guilty-Trial-17_BandRejection.mat  \n",
            "  inflating: MAT files/Subject8-Guilty-Trial-18_BandRejection.mat  \n",
            "  inflating: MAT files/Subject8-Guilty-Trial-19_BandRejection.mat  \n",
            "  inflating: MAT files/Subject8-Guilty-Trial-2_BandRejection.mat  \n",
            "  inflating: MAT files/Subject8-Guilty-Trial-20_BandRejection.mat  \n",
            "  inflating: MAT files/Subject8-Guilty-Trial-21_BandRejection.mat  \n",
            "  inflating: MAT files/Subject8-Guilty-Trial-22_BandRejection.mat  \n",
            "  inflating: MAT files/Subject8-Guilty-Trial-23_BandRejection.mat  \n",
            "  inflating: MAT files/Subject8-Guilty-Trial-24_BandRejection.mat  \n",
            "  inflating: MAT files/Subject8-Guilty-Trial-25_BandRejection.mat  \n",
            "  inflating: MAT files/Subject8-Guilty-Trial-26_BandRejection.mat  \n",
            "  inflating: MAT files/Subject8-Guilty-Trial-27_BandRejection.mat  \n",
            "  inflating: MAT files/Subject8-Guilty-Trial-28_BandRejection.mat  \n",
            "  inflating: MAT files/Subject8-Guilty-Trial-29_BandRejection.mat  \n",
            "  inflating: MAT files/Subject8-Guilty-Trial-3_BandRejection.mat  \n",
            "  inflating: MAT files/Subject8-Guilty-Trial-30_BandRejection.mat  \n",
            "  inflating: MAT files/Subject8-Guilty-Trial-4_BandRejection.mat  \n",
            "  inflating: MAT files/Subject8-Guilty-Trial-5_BandRejection.mat  \n",
            "  inflating: MAT files/Subject8-Guilty-Trial-6_BandRejection.mat  \n",
            "  inflating: MAT files/Subject8-Guilty-Trial-7_BandRejection.mat  \n",
            "  inflating: MAT files/Subject8-Guilty-Trial-8_BandRejection.mat  \n",
            "  inflating: MAT files/Subject8-Guilty-Trial-9_BandRejection.mat  \n",
            "  inflating: MAT files/Subject8-Innocent-Trial-1_BandRejection.mat  \n",
            "  inflating: MAT files/Subject8-Innocent-Trial-10_BandRejection.mat  \n",
            "  inflating: MAT files/Subject8-Innocent-Trial-11_BandRejection.mat  \n",
            "  inflating: MAT files/Subject8-Innocent-Trial-12_BandRejection.mat  \n",
            "  inflating: MAT files/Subject8-Innocent-Trial-13_BandRejection.mat  \n",
            "  inflating: MAT files/Subject8-Innocent-Trial-14_BandRejection.mat  \n",
            "  inflating: MAT files/Subject8-Innocent-Trial-15_BandRejection.mat  \n",
            "  inflating: MAT files/Subject8-Innocent-Trial-16_BandRejection.mat  \n",
            "  inflating: MAT files/Subject8-Innocent-Trial-17_BandRejection.mat  \n",
            "  inflating: MAT files/Subject8-Innocent-Trial-18_BandRejection.mat  \n",
            "  inflating: MAT files/Subject8-Innocent-Trial-19_BandRejection.mat  \n",
            "  inflating: MAT files/Subject8-Innocent-Trial-2_BandRejection.mat  \n",
            "  inflating: MAT files/Subject8-Innocent-Trial-20_BandRejection.mat  \n",
            "  inflating: MAT files/Subject8-Innocent-Trial-21_BandRejection.mat  \n",
            "  inflating: MAT files/Subject8-Innocent-Trial-22_BandRejection.mat  \n",
            "  inflating: MAT files/Subject8-Innocent-Trial-23_BandRejection.mat  \n",
            "  inflating: MAT files/Subject8-Innocent-Trial-24_BandRejection.mat  \n",
            "  inflating: MAT files/Subject8-Innocent-Trial-25_BandRejection.mat  \n",
            "  inflating: MAT files/Subject8-Innocent-Trial-26_BandRejection.mat  \n",
            "  inflating: MAT files/Subject8-Innocent-Trial-27_BandRejection.mat  \n",
            "  inflating: MAT files/Subject8-Innocent-Trial-28_BandRejection.mat  \n",
            "  inflating: MAT files/Subject8-Innocent-Trial-29_BandRejection.mat  \n",
            "  inflating: MAT files/Subject8-Innocent-Trial-3_BandRejection.mat  \n",
            "  inflating: MAT files/Subject8-Innocent-Trial-30_BandRejection.mat  \n",
            "  inflating: MAT files/Subject8-Innocent-Trial-4_BandRejection.mat  \n",
            "  inflating: MAT files/Subject8-Innocent-Trial-5_BandRejection.mat  \n",
            "  inflating: MAT files/Subject8-Innocent-Trial-6_BandRejection.mat  \n",
            "  inflating: MAT files/Subject8-Innocent-Trial-7_BandRejection.mat  \n",
            "  inflating: MAT files/Subject8-Innocent-Trial-8_BandRejection.mat  \n",
            "  inflating: MAT files/Subject8-Innocent-Trial-9_BandRejection.mat  \n",
            "  inflating: MAT files/Subject9-Guilty-Trial-1_BandRejection.mat  \n",
            "  inflating: MAT files/Subject9-Guilty-Trial-10_BandRejection.mat  \n",
            "  inflating: MAT files/Subject9-Guilty-Trial-11_BandRejection.mat  \n",
            "  inflating: MAT files/Subject9-Guilty-Trial-12_BandRejection.mat  \n",
            "  inflating: MAT files/Subject9-Guilty-Trial-13_BandRejection.mat  \n",
            "  inflating: MAT files/Subject9-Guilty-Trial-14_BandRejection.mat  \n",
            "  inflating: MAT files/Subject9-Guilty-Trial-15_BandRejection.mat  \n",
            "  inflating: MAT files/Subject9-Guilty-Trial-16_BandRejection.mat  \n",
            "  inflating: MAT files/Subject9-Guilty-Trial-17_BandRejection.mat  \n",
            "  inflating: MAT files/Subject9-Guilty-Trial-18_BandRejection.mat  \n",
            "  inflating: MAT files/Subject9-Guilty-Trial-19_BandRejection.mat  \n",
            "  inflating: MAT files/Subject9-Guilty-Trial-2_BandRejection.mat  \n",
            "  inflating: MAT files/Subject9-Guilty-Trial-20_BandRejection.mat  \n",
            "  inflating: MAT files/Subject9-Guilty-Trial-21_BandRejection.mat  \n",
            "  inflating: MAT files/Subject9-Guilty-Trial-22_BandRejection.mat  \n",
            "  inflating: MAT files/Subject9-Guilty-Trial-23_BandRejection.mat  \n",
            "  inflating: MAT files/Subject9-Guilty-Trial-24_BandRejection.mat  \n",
            "  inflating: MAT files/Subject9-Guilty-Trial-25_BandRejection.mat  \n",
            "  inflating: MAT files/Subject9-Guilty-Trial-26_BandRejection.mat  \n",
            "  inflating: MAT files/Subject9-Guilty-Trial-27_BandRejection.mat  \n",
            "  inflating: MAT files/Subject9-Guilty-Trial-28_BandRejection.mat  \n",
            "  inflating: MAT files/Subject9-Guilty-Trial-29_BandRejection.mat  \n",
            "  inflating: MAT files/Subject9-Guilty-Trial-3_BandRejection.mat  \n",
            "  inflating: MAT files/Subject9-Guilty-Trial-30_BandRejection.mat  \n",
            "  inflating: MAT files/Subject9-Guilty-Trial-4_BandRejection.mat  \n",
            "  inflating: MAT files/Subject9-Guilty-Trial-5_BandRejection.mat  \n",
            "  inflating: MAT files/Subject9-Guilty-Trial-6_BandRejection.mat  \n",
            "  inflating: MAT files/Subject9-Guilty-Trial-7_BandRejection.mat  \n",
            "  inflating: MAT files/Subject9-Guilty-Trial-8_BandRejection.mat  \n",
            "  inflating: MAT files/Subject9-Guilty-Trial-9_BandRejection.mat  \n",
            "  inflating: MAT files/Subject9-Innocent-Trial-1_BandRejection.mat  \n",
            "  inflating: MAT files/Subject9-Innocent-Trial-10_BandRejection.mat  \n",
            "  inflating: MAT files/Subject9-Innocent-Trial-11_BandRejection.mat  \n",
            "  inflating: MAT files/Subject9-Innocent-Trial-12_BandRejection.mat  \n",
            "  inflating: MAT files/Subject9-Innocent-Trial-13_BandRejection.mat  \n",
            "  inflating: MAT files/Subject9-Innocent-Trial-14_BandRejection.mat  \n",
            "  inflating: MAT files/Subject9-Innocent-Trial-15_BandRejection.mat  \n",
            "  inflating: MAT files/Subject9-Innocent-Trial-16_BandRejection.mat  \n",
            "  inflating: MAT files/Subject9-Innocent-Trial-17_BandRejection.mat  \n",
            "  inflating: MAT files/Subject9-Innocent-Trial-18_BandRejection.mat  \n",
            "  inflating: MAT files/Subject9-Innocent-Trial-19_BandRejection.mat  \n",
            "  inflating: MAT files/Subject9-Innocent-Trial-2_BandRejection.mat  \n",
            "  inflating: MAT files/Subject9-Innocent-Trial-20_BandRejection.mat  \n",
            "  inflating: MAT files/Subject9-Innocent-Trial-21_BandRejection.mat  \n",
            "  inflating: MAT files/Subject9-Innocent-Trial-22_BandRejection.mat  \n",
            "  inflating: MAT files/Subject9-Innocent-Trial-23_BandRejection.mat  \n",
            "  inflating: MAT files/Subject9-Innocent-Trial-24_BandRejection.mat  \n",
            "  inflating: MAT files/Subject9-Innocent-Trial-25_BandRejection.mat  \n",
            "  inflating: MAT files/Subject9-Innocent-Trial-26_BandRejection.mat  \n",
            "  inflating: MAT files/Subject9-Innocent-Trial-27_BandRejection.mat  \n",
            "  inflating: MAT files/Subject9-Innocent-Trial-28_BandRejection.mat  \n",
            "  inflating: MAT files/Subject9-Innocent-Trial-29_BandRejection.mat  \n",
            "  inflating: MAT files/Subject9-Innocent-Trial-3_BandRejection.mat  \n",
            "  inflating: MAT files/Subject9-Innocent-Trial-30_BandRejection.mat  \n",
            "  inflating: MAT files/Subject9-Innocent-Trial-4_BandRejection.mat  \n",
            "  inflating: MAT files/Subject9-Innocent-Trial-5_BandRejection.mat  \n",
            "  inflating: MAT files/Subject9-Innocent-Trial-6_BandRejection.mat  \n",
            "  inflating: MAT files/Subject9-Innocent-Trial-7_BandRejection.mat  \n",
            "  inflating: MAT files/Subject9-Innocent-Trial-8_BandRejection.mat  \n",
            "  inflating: MAT files/Subject9-Innocent-Trial-9_BandRejection.mat  \n"
          ]
        }
      ]
    },
    {
      "cell_type": "code",
      "source": [
        "import numpy as np\n",
        "import scipy.io\n",
        "import os\n",
        "import tensorflow as tf\n",
        "from tensorflow.keras.models import Sequential\n",
        "from tensorflow.keras.layers import Dense, Dropout\n",
        "from tensorflow.keras.optimizers import Adam\n",
        "from sklearn.model_selection import train_test_split\n",
        "from deap import base, creator, tools, algorithms\n",
        "import random"
      ],
      "metadata": {
        "execution": {
          "iopub.status.busy": "2024-08-02T18:18:19.221838Z",
          "iopub.execute_input": "2024-08-02T18:18:19.222358Z",
          "iopub.status.idle": "2024-08-02T18:18:21.965821Z",
          "shell.execute_reply.started": "2024-08-02T18:18:19.222320Z",
          "shell.execute_reply": "2024-08-02T18:18:21.964209Z"
        },
        "trusted": true,
        "id": "QFy17TCxVZcx"
      },
      "execution_count": null,
      "outputs": []
    },
    {
      "cell_type": "code",
      "source": [
        "import os\n",
        "import torch\n",
        "from scipy.io import loadmat\n",
        "import numpy as np\n",
        "import re\n",
        "\n",
        "mat_files_directory = '/content/MAT files'\n",
        "\n",
        "relevant_channels = ['Fz', 'FC1', 'FC2', 'C3', 'Cz', 'C4', 'CP5', 'CP1', 'CP2', 'CP6', 'P3', 'Pz', 'P4', 'O1', 'Oz', 'O2']\n",
        "\n",
        "tensors = []\n",
        "labels = []\n",
        "\n",
        "for file_name in os.listdir(mat_files_directory):\n",
        "    if file_name.endswith('.mat'):\n",
        "        mat_file_path = os.path.join(mat_files_directory, file_name)\n",
        "        data = loadmat(mat_file_path)\n",
        "\n",
        "        # Extract labels from the file name\n",
        "        # Example: \"Subject-1InnocTrial-11_BandRejection.mat\" or \"Subject2-InnocentTrial_20.mat\"\n",
        "        # Extracting Trial type (e.g., Innocent, Guilty)\n",
        "        if 'innoc' in file_name.lower():\n",
        "            label = 'Innocent'\n",
        "        elif 'guilty' in file_name.lower():\n",
        "            label = 'Guilty'\n",
        "        else:\n",
        "            print(file_name)\n",
        "            label = 'Unknown'\n",
        "            continue\n",
        "\n",
        "        channel_data = [data[channel] for channel in relevant_channels if channel in data]\n",
        "\n",
        "        min_length = min([ch_data.shape[1] for ch_data in channel_data])\n",
        "        channel_data = [ch_data[:, :min_length] for ch_data in channel_data]\n",
        "\n",
        "        data_array = np.stack(channel_data, axis=0)\n",
        "\n",
        "        tensor_data = torch.tensor(data_array, dtype=torch.float32)\n",
        "\n",
        "        tensors.append(tensor_data)\n",
        "        labels.append(label)\n",
        "\n",
        "# Determine the maximum size for each dimension\n",
        "max_shape = tuple(max(sizes) for sizes in zip(*[t.size() for t in tensors]))\n",
        "\n",
        "# Pad each tensor to the maximum size\n",
        "padded_tensors = []\n",
        "for t in tensors:\n",
        "    pad_size = [(0, max_dim - cur_dim) for cur_dim, max_dim in zip(t.size(), max_shape)]\n",
        "    pad_size = [item for sublist in pad_size for item in sublist][::-1]  # Flatten and reverse\n",
        "    padded_tensors.append(torch.nn.functional.pad(t, pad_size))\n",
        "\n",
        "# Stack the padded tensors\n",
        "stacked_tensor = torch.stack(padded_tensors)\n",
        "\n",
        "print(stacked_tensor.shape)\n",
        "print(len(labels))"
      ],
      "metadata": {
        "colab": {
          "base_uri": "https://localhost:8080/"
        },
        "id": "nKeGt5utZHsm",
        "outputId": "82b0f068-193a-4d7b-a52c-48ab87710faf"
      },
      "execution_count": null,
      "outputs": [
        {
          "output_type": "stream",
          "name": "stdout",
          "text": [
            "S1000001_BandRejection.mat\n",
            "torch.Size([249, 16, 9779, 1])\n",
            "249\n"
          ]
        }
      ]
    },
    {
      "cell_type": "code",
      "source": [
        "from sklearn.preprocessing import LabelEncoder\n",
        "\n",
        "label_encoder = LabelEncoder()\n",
        "labels_encoded = label_encoder.fit_transform(labels)\n",
        "print(\"Classes:\", label_encoder.classes_)\n"
      ],
      "metadata": {
        "colab": {
          "base_uri": "https://localhost:8080/"
        },
        "id": "DEW8Wfs0zRTK",
        "outputId": "7037be2a-5ada-4702-f4f3-13c2f2339320"
      },
      "execution_count": null,
      "outputs": [
        {
          "output_type": "stream",
          "name": "stdout",
          "text": [
            "Classes: ['Guilty' 'Innocent']\n"
          ]
        }
      ]
    },
    {
      "cell_type": "code",
      "source": [
        "from sklearn.cluster import KMeans\n",
        "from sklearn.preprocessing import StandardScaler\n",
        "data = stacked_tensor\n",
        "\n",
        "flattened_data = data.view(data.size(0), -1).numpy()  # Shape: [249, 16 * 9779]\n",
        "\n",
        "\n",
        "# Standardize the data\n",
        "scaler = StandardScaler()\n",
        "X_scaled = scaler.fit_transform(flattened_data)\n",
        "\n",
        "# Apply K-Means clustering to divide the data into 3 clusters\n",
        "kmeans = KMeans(n_clusters=3, random_state=42)\n",
        "clusters = kmeans.fit_predict(X_scaled)\n",
        "\n",
        "# Splitting the data into three batches based on clusters\n",
        "batches = {i: [] for i in range(3)}\n",
        "for i, cluster in enumerate(clusters):\n",
        "    batches[cluster].append(i)\n",
        "\n",
        "# Create datasets for each cluster\n",
        "datasets = []\n",
        "for batch_indices in batches.values():\n",
        "    X_batch = X_scaled[batch_indices]\n",
        "    y_batch = labels_encoded[batch_indices]\n",
        "    datasets.append((X_batch, y_batch))\n",
        "\n",
        "# Display the size of each batch\n",
        "for i, (X_batch, y_batch) in enumerate(datasets):\n",
        "    print(f\"Batch {i+1} size: {X_batch.shape}\")\n"
      ],
      "metadata": {
        "colab": {
          "base_uri": "https://localhost:8080/"
        },
        "id": "pFlO-nCM2No6",
        "outputId": "90e4dc94-9087-4e81-827a-6bd5184fd698"
      },
      "execution_count": null,
      "outputs": [
        {
          "output_type": "stream",
          "name": "stderr",
          "text": [
            "/usr/local/lib/python3.10/dist-packages/sklearn/cluster/_kmeans.py:1416: FutureWarning: The default value of `n_init` will change from 10 to 'auto' in 1.4. Set the value of `n_init` explicitly to suppress the warning\n",
            "  super()._check_params_vs_input(X, default_n_init=10)\n"
          ]
        },
        {
          "output_type": "stream",
          "name": "stdout",
          "text": [
            "Batch 1 size: (27, 156464)\n",
            "Batch 2 size: (29, 156464)\n",
            "Batch 3 size: (193, 156464)\n"
          ]
        }
      ]
    },
    {
      "cell_type": "code",
      "source": [
        "from sklearn.ensemble import BaggingClassifier\n",
        "from sklearn.linear_model import LogisticRegression\n",
        "from sklearn.neighbors import KNeighborsClassifier\n",
        "from sklearn.svm import SVC\n",
        "from sklearn.tree import DecisionTreeClassifier\n",
        "\n",
        "# Define the base models\n",
        "base_models = {\n",
        "    'Logistic Regression': LogisticRegression(max_iter=1000),\n",
        "    'K-Nearest Neighbors': KNeighborsClassifier(n_neighbors=5),\n",
        "    'Support Vector Classifier': SVC(probability=True),\n",
        "    'Decision Tree': DecisionTreeClassifier()\n",
        "}\n",
        "\n",
        "bagging_models = []\n",
        "bag_size = 0.8  # Use 80% of the data for each bag\n",
        "\n",
        "for i, (X_batch, y_batch) in enumerate(datasets):\n",
        "    for name, base_model in base_models.items():\n",
        "        for j in range(5):  # Train 5 bags for each model\n",
        "            bagging_model = BaggingClassifier(base_model, n_estimators=1, max_samples=bag_size, random_state=j)\n",
        "            bagging_model.fit(X_batch, y_batch)\n",
        "            bagging_models.append((f\"Batch_{i+1}_{name}_bag_{j}\", bagging_model))\n"
      ],
      "metadata": {
        "id": "eR1kMtKZ2ewP"
      },
      "execution_count": null,
      "outputs": []
    },
    {
      "cell_type": "code",
      "source": [
        "from sklearn.metrics import accuracy_score\n",
        "\n",
        "# Combine all batches for testing purposes\n",
        "X_test_combined = np.vstack([X_batch for X_batch, _ in datasets])\n",
        "y_test_combined = np.hstack([y_batch for _, y_batch in datasets])\n",
        "\n",
        "# Evaluate all bagging models and store their accuracies\n",
        "model_accuracies = []\n",
        "\n",
        "for name, model in bagging_models:\n",
        "    predictions = model.predict(X_test_combined)\n",
        "    accuracy = accuracy_score(y_test_combined, predictions)\n",
        "    model_accuracies.append((name, model, accuracy))\n",
        "\n",
        "# Sort models based on accuracy and select the top 7\n",
        "model_accuracies.sort(key=lambda x: x[2], reverse=True)\n",
        "top_models = model_accuracies[:7]\n",
        "\n",
        "# Display the top 7 models\n",
        "for name, model, accuracy in top_models:\n",
        "    print(f\"{name} Accuracy: {accuracy:.4f}\")\n"
      ],
      "metadata": {
        "colab": {
          "base_uri": "https://localhost:8080/"
        },
        "id": "3zN2LWrF5Vig",
        "outputId": "6dbefa45-b6bb-4f1c-b853-c8fff1d0e4f5"
      },
      "execution_count": null,
      "outputs": [
        {
          "output_type": "stream",
          "name": "stdout",
          "text": [
            "Batch_3_Logistic Regression_bag_1 Accuracy: 0.7510\n",
            "Batch_3_Decision Tree_bag_1 Accuracy: 0.7510\n",
            "Batch_3_Logistic Regression_bag_4 Accuracy: 0.7349\n",
            "Batch_3_Decision Tree_bag_4 Accuracy: 0.7349\n",
            "Batch_3_Logistic Regression_bag_0 Accuracy: 0.7269\n",
            "Batch_3_Logistic Regression_bag_3 Accuracy: 0.7229\n",
            "Batch_3_Decision Tree_bag_2 Accuracy: 0.7189\n"
          ]
        }
      ]
    },
    {
      "cell_type": "code",
      "source": [
        "# Layer 1: Use 3 models to classify the data\n",
        "layer1_models = top_models[:3]\n",
        "\n",
        "# First Layer Predictions\n",
        "layer1_preds = [model.predict_proba(X_test_combined)[:, 1] for _, model, _ in layer1_models]\n",
        "\n",
        "# Combine predictions from Layer 1\n",
        "layer1_combined_preds = np.mean(layer1_preds, axis=0)\n",
        "layer1_guilty_indices = np.where(layer1_combined_preds > 0.5)[0]\n",
        "\n",
        "# Data classified as \"Guilty\"\n",
        "X_layer2 = X_test_combined[layer1_guilty_indices]\n",
        "y_layer2 = y_test_combined[layer1_guilty_indices]\n",
        "\n",
        "# Layer 2: Use 2 more models\n",
        "layer2_models = top_models[3:5]\n",
        "\n",
        "# Second Layer Predictions\n",
        "layer2_preds = [model.predict_proba(X_layer2)[:, 1] for _, model, _ in layer2_models]\n",
        "\n",
        "# Combine predictions from Layer 2\n",
        "layer2_combined_preds = np.mean(layer2_preds, axis=0)\n",
        "layer2_guilty_indices = np.where(layer2_combined_preds > 0.5)[0]\n",
        "\n",
        "# Data classified as \"Guilty\" from Layer 2\n",
        "X_layer3 = X_layer2[layer2_guilty_indices]\n",
        "y_layer3 = y_layer2[layer2_guilty_indices]\n",
        "\n",
        "# Layer 3: Use the final 2 models\n",
        "layer3_models = top_models[5:7]\n",
        "\n",
        "# Third Layer Predictions\n",
        "layer3_preds = [model.predict_proba(X_layer3)[:, 1] for _, model, _ in layer3_models]\n",
        "\n",
        "# Combine predictions from Layer 3\n",
        "layer3_combined_preds = np.mean(layer3_preds, axis=0)\n",
        "layer3_guilty_indices = np.where(layer3_combined_preds > 0.5)[0]\n",
        "\n",
        "# Final predictions for Layer 3\n",
        "final_predictions = np.zeros_like(y_test_combined)\n",
        "final_predictions[layer1_guilty_indices[layer2_guilty_indices[layer3_guilty_indices]]] = 1\n",
        "\n",
        "# Final Accuracy Calculation\n",
        "final_accuracy = accuracy_score(y_test_combined, final_predictions)\n",
        "print(f\"Final Layered Classification Accuracy: {final_accuracy:.4f}\")\n"
      ],
      "metadata": {
        "colab": {
          "base_uri": "https://localhost:8080/"
        },
        "id": "_GG1DbPQ5flE",
        "outputId": "c4cba103-cd11-425e-ccf6-b904ab5abc44"
      },
      "execution_count": null,
      "outputs": [
        {
          "output_type": "stream",
          "name": "stdout",
          "text": [
            "Final Layered Classification Accuracy: 0.7189\n"
          ]
        }
      ]
    },
    {
      "cell_type": "code",
      "source": [
        "import matplotlib.pyplot as plt\n",
        "from sklearn.metrics import confusion_matrix, ConfusionMatrixDisplay\n",
        "cm = confusion_matrix(y_test_combined, final_predictions)\n",
        "disp = ConfusionMatrixDisplay(confusion_matrix=cm, display_labels=label_encoder.classes_)\n",
        "disp.plot(cmap=plt.cm.Blues)\n",
        "plt.title(\"Confusion Matrix\")\n",
        "plt.show()"
      ],
      "metadata": {
        "colab": {
          "base_uri": "https://localhost:8080/",
          "height": 472
        },
        "id": "OYTgjbVM5gCb",
        "outputId": "2f543289-796c-42a3-cd33-ae0fd34ded4c"
      },
      "execution_count": null,
      "outputs": [
        {
          "output_type": "display_data",
          "data": {
            "text/plain": [
              "<Figure size 640x480 with 2 Axes>"
            ],
            "image/png": "[encoded data removed]"
          },
          "metadata": {}
        }
      ]
    },
    {
      "cell_type": "code",
      "source": [],
      "metadata": {
        "id": "l99DkRvL_Q0V"
      },
      "execution_count": null,
      "outputs": []
    }
  ]
}